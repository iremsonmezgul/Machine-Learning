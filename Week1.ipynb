{
 "cells": [
  {
   "cell_type": "markdown",
   "id": "bea07cf8",
   "metadata": {},
   "source": [
    "**Python Examples**"
   ]
  },
  {
   "cell_type": "code",
   "execution_count": 1,
   "id": "9a7c343a",
   "metadata": {},
   "outputs": [
    {
     "name": "stdout",
     "output_type": "stream",
     "text": [
      "Hello Python\n"
     ]
    }
   ],
   "source": [
    "print(\"Hello Python\")"
   ]
  },
  {
   "cell_type": "code",
   "execution_count": 4,
   "id": "99173fed",
   "metadata": {},
   "outputs": [
    {
     "name": "stdout",
     "output_type": "stream",
     "text": [
      "İrem Sönmezgül\n"
     ]
    }
   ],
   "source": [
    "name = \"İrem Sönmezgül\"\n",
    "print(name)"
   ]
  },
  {
   "cell_type": "code",
   "execution_count": 20,
   "id": "a90cf661",
   "metadata": {},
   "outputs": [
    {
     "name": "stdout",
     "output_type": "stream",
     "text": [
      "<class 'str'>\n",
      "<class 'int'>\n",
      "<class 'str'>\n",
      "<class 'float'>\n"
     ]
    }
   ],
   "source": [
    "number1 = 8\n",
    "tel=\"1234567890\"\n",
    "number2 = 4.8\n",
    "print(type(name))\n",
    "print(type(number1))\n",
    "print(type(tel))\n",
    "print(type(number2))"
   ]
  },
  {
   "cell_type": "code",
   "execution_count": 23,
   "id": "d5f9e490",
   "metadata": {},
   "outputs": [
    {
     "data": {
      "text/plain": [
       "189"
      ]
     },
     "execution_count": 23,
     "metadata": {},
     "output_type": "execute_result"
    }
   ],
   "source": [
    "list=[100,20,12,57]\n",
    "sum(list)"
   ]
  },
  {
   "cell_type": "code",
   "execution_count": 24,
   "id": "0b76ecee",
   "metadata": {},
   "outputs": [
    {
     "data": {
      "text/plain": [
       "12"
      ]
     },
     "execution_count": 24,
     "metadata": {},
     "output_type": "execute_result"
    }
   ],
   "source": [
    "min(list)"
   ]
  },
  {
   "cell_type": "code",
   "execution_count": 27,
   "id": "b54b5364",
   "metadata": {
    "scrolled": true
   },
   "outputs": [
    {
     "name": "stdout",
     "output_type": "stream",
     "text": [
      "[57, 12, 20, 100]\n"
     ]
    }
   ],
   "source": [
    "list.reverse()\n",
    "print(list)"
   ]
  },
  {
   "cell_type": "code",
   "execution_count": 28,
   "id": "be2f85cc",
   "metadata": {},
   "outputs": [
    {
     "name": "stdout",
     "output_type": "stream",
     "text": [
      "[12, 20, 57, 100]\n"
     ]
    }
   ],
   "source": [
    "list.sort()\n",
    "print(list)"
   ]
  },
  {
   "cell_type": "code",
   "execution_count": 25,
   "id": "1532b860",
   "metadata": {},
   "outputs": [
    {
     "name": "stdout",
     "output_type": "stream",
     "text": [
      "12\n"
     ]
    }
   ],
   "source": [
    "minimum =10000\n",
    "for each in list:\n",
    "    if(each<minimum):\n",
    "        minimum=each\n",
    "    else: \n",
    "        continue\n",
    "print(minimum)        "
   ]
  },
  {
   "cell_type": "code",
   "execution_count": 26,
   "id": "310c96c0",
   "metadata": {},
   "outputs": [
    {
     "name": "stdout",
     "output_type": "stream",
     "text": [
      "1\n",
      "3\n",
      "5\n",
      "7\n",
      "9\n",
      "11\n",
      "13\n",
      "15\n"
     ]
    }
   ],
   "source": [
    "counter = 1\n",
    "while counter<=16:\n",
    "   print(counter)\n",
    "   counter = counter +2"
   ]
  },
  {
   "cell_type": "code",
   "execution_count": 7,
   "id": "c513a6c4",
   "metadata": {},
   "outputs": [
    {
     "name": "stdout",
     "output_type": "stream",
     "text": [
      "['laptop', 'mouse', 'keyboard']\n",
      "<class 'list'>\n"
     ]
    }
   ],
   "source": [
    "products = [\"laptop\",\"mouse\",\"keyboard\"]\n",
    "print(products)\n",
    "print(type(products))"
   ]
  },
  {
   "cell_type": "code",
   "execution_count": 8,
   "id": "6e70cc09",
   "metadata": {},
   "outputs": [
    {
     "name": "stdout",
     "output_type": "stream",
     "text": [
      "['laptop', 'mouse', 'keyboard', 'powerbank']\n"
     ]
    }
   ],
   "source": [
    "products.append(\"powerbank\")\n",
    "print(products)"
   ]
  },
  {
   "cell_type": "code",
   "execution_count": 14,
   "id": "0e0c6737",
   "metadata": {},
   "outputs": [
    {
     "name": "stdout",
     "output_type": "stream",
     "text": [
      "keyboard\n"
     ]
    }
   ],
   "source": [
    "value = products[2]\n",
    "print(value)"
   ]
  },
  {
   "cell_type": "code",
   "execution_count": 11,
   "id": "c6ea7cc0",
   "metadata": {},
   "outputs": [
    {
     "data": {
      "text/plain": [
       "'powerbank'"
      ]
     },
     "execution_count": 11,
     "metadata": {},
     "output_type": "execute_result"
    }
   ],
   "source": [
    "products[-1]"
   ]
  },
  {
   "cell_type": "code",
   "execution_count": 16,
   "id": "ee9f2d36",
   "metadata": {},
   "outputs": [
    {
     "name": "stdout",
     "output_type": "stream",
     "text": [
      "['laptop', 'mouse', 'keyboard']\n"
     ]
    }
   ],
   "source": [
    "products.remove(\"powerbank\")\n",
    "print(products)"
   ]
  },
  {
   "cell_type": "code",
   "execution_count": 30,
   "id": "527d1e07",
   "metadata": {},
   "outputs": [
    {
     "name": "stdout",
     "output_type": "stream",
     "text": [
      "num 1:1\n",
      "num 2:30\n",
      "2\n",
      "3\n",
      "5\n",
      "7\n",
      "11\n",
      "13\n",
      "17\n",
      "19\n",
      "23\n",
      "29\n"
     ]
    }
   ],
   "source": [
    "def primenumbers(num1,num2):\n",
    "    for num in range(num1, num2+1):\n",
    "        if num > 1:\n",
    "            for i in range(2, num):\n",
    "                if (num % i == 0):\n",
    "                    break\n",
    "            else:\n",
    "                print(num)\n",
    "\n",
    "num1 = int(input('num 1:'))\n",
    "num2 = int(input('num 2:'))\n",
    "\n",
    "primenumbers(num1, num2)\n",
    "\n"
   ]
  },
  {
   "cell_type": "code",
   "execution_count": 38,
   "id": "cc72fc91",
   "metadata": {},
   "outputs": [],
   "source": [
    "dictionary = {\"Titanic\":1997,\"Green Mile\":1999}"
   ]
  },
  {
   "cell_type": "code",
   "execution_count": 39,
   "id": "6ca31a85",
   "metadata": {},
   "outputs": [
    {
     "data": {
      "text/plain": [
       "1999"
      ]
     },
     "execution_count": 39,
     "metadata": {},
     "output_type": "execute_result"
    }
   ],
   "source": [
    "dictionary[\"Green Mile\"]"
   ]
  },
  {
   "cell_type": "code",
   "execution_count": 40,
   "id": "b9089356",
   "metadata": {},
   "outputs": [
    {
     "data": {
      "text/plain": [
       "dict_keys(['Titanic', 'Green Mile'])"
      ]
     },
     "execution_count": 40,
     "metadata": {},
     "output_type": "execute_result"
    }
   ],
   "source": [
    "dictionary.keys()"
   ]
  },
  {
   "cell_type": "code",
   "execution_count": 41,
   "id": "813f8a63",
   "metadata": {},
   "outputs": [
    {
     "data": {
      "text/plain": [
       "dict_values([1997, 1999])"
      ]
     },
     "execution_count": 41,
     "metadata": {},
     "output_type": "execute_result"
    }
   ],
   "source": [
    "dictionary.values()"
   ]
  },
  {
   "cell_type": "code",
   "execution_count": 42,
   "id": "8e857997",
   "metadata": {},
   "outputs": [
    {
     "name": "stdout",
     "output_type": "stream",
     "text": [
      "{'Titanic': 1997, 'Green Mile': 1999}\n"
     ]
    }
   ],
   "source": [
    "def deneme():\n",
    "    dictionary = {\"Titanic\":1997,\"Green Mile\":1999}\n",
    "    return dictionary\n",
    "dic = deneme()\n",
    "print(dic)"
   ]
  },
  {
   "cell_type": "code",
   "execution_count": 46,
   "id": "a9c6b687",
   "metadata": {},
   "outputs": [
    {
     "name": "stdout",
     "output_type": "stream",
     "text": [
      "Not found \n"
     ]
    }
   ],
   "source": [
    "keys = dictionary\n",
    "if \"Avatar\" in keys:\n",
    "    print(\"The movie is starting\")\n",
    "else:\n",
    "    print(\"Not found \")"
   ]
  }
 ],
 "metadata": {
  "kernelspec": {
   "display_name": "Python 3 (ipykernel)",
   "language": "python",
   "name": "python3"
  },
  "language_info": {
   "codemirror_mode": {
    "name": "ipython",
    "version": 3
   },
   "file_extension": ".py",
   "mimetype": "text/x-python",
   "name": "python",
   "nbconvert_exporter": "python",
   "pygments_lexer": "ipython3",
   "version": "3.9.13"
  }
 },
 "nbformat": 4,
 "nbformat_minor": 5
}
